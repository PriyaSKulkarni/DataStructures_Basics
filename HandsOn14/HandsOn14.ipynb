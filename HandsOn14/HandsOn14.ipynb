{
  "nbformat": 4,
  "nbformat_minor": 0,
  "metadata": {
    "colab": {
      "provenance": []
    },
    "kernelspec": {
      "name": "python3",
      "display_name": "Python 3"
    },
    "language_info": {
      "name": "python"
    }
  },
  "cells": [
    {
      "cell_type": "markdown",
      "source": [
        "Topological sort"
      ],
      "metadata": {
        "id": "3116_ojMDQk4"
      }
    },
    {
      "cell_type": "code",
      "execution_count": 1,
      "metadata": {
        "colab": {
          "base_uri": "https://localhost:8080/"
        },
        "id": "1dg8DTunC7Cs",
        "outputId": "adeee43e-6283-4a60-8b60-fb663df4a084"
      },
      "outputs": [
        {
          "output_type": "stream",
          "name": "stdout",
          "text": [
            "Topological Sort of the graph: ['A', 'B', 'C', 'D', 'E', 'F']\n"
          ]
        }
      ],
      "source": [
        "from collections import defaultdict, deque\n",
        "\n",
        "def topological_sort(graph):\n",
        "    # Dictionary to keep track of the in-degree of nodes\n",
        "    in_degree = {node: 0 for node in graph}\n",
        "    for node in graph:\n",
        "        for neighbor in graph[node]:\n",
        "            in_degree[neighbor] += 1\n",
        "\n",
        "    # Queue for the nodes with in-degree 0\n",
        "    queue = deque([n for n in graph if in_degree[n] == 0])\n",
        "    top_order = []\n",
        "\n",
        "    while queue:\n",
        "        node = queue.popleft()\n",
        "        top_order.append(node)\n",
        "        for neighbor in graph[node]:\n",
        "            in_degree[neighbor] -= 1\n",
        "            if in_degree[neighbor] == 0:\n",
        "                queue.append(neighbor)\n",
        "\n",
        "    if len(top_order) == len(graph):\n",
        "        return top_order\n",
        "    else:\n",
        "        # There is a cycle in the graph\n",
        "        return None\n",
        "\n",
        "# Example graph\n",
        "graph = {\n",
        "    'A': ['C'],\n",
        "    'B': ['C', 'D'],\n",
        "    'C': ['E'],\n",
        "    'D': ['F'],\n",
        "    'E': [],\n",
        "    'F': []\n",
        "}\n",
        "\n",
        "print(\"Topological Sort of the graph:\", topological_sort(graph))\n"
      ]
    },
    {
      "cell_type": "markdown",
      "source": [
        "Depth-First Search (DFS)"
      ],
      "metadata": {
        "id": "sYHcCbZjDVZY"
      }
    },
    {
      "cell_type": "code",
      "source": [
        "def dfs(graph, start, visited=None):\n",
        "    if visited is None:\n",
        "        visited = set()\n",
        "    visited.add(start)\n",
        "    print(start, end=' ')\n",
        "    for neighbor in graph[start]:\n",
        "        if neighbor not in visited:\n",
        "            dfs(graph, neighbor, visited)\n",
        "\n",
        "# Example graph\n",
        "graph = {\n",
        "    'A': ['B', 'C'],\n",
        "    'B': ['D', 'E'],\n",
        "    'C': ['F'],\n",
        "    'D': [],\n",
        "    'E': ['F'],\n",
        "    'F': []\n",
        "}\n",
        "\n",
        "print(\"DFS starting from 'A':\")\n",
        "dfs(graph, 'A')\n",
        "print()\n"
      ],
      "metadata": {
        "colab": {
          "base_uri": "https://localhost:8080/"
        },
        "id": "wlvyjzuIDOwo",
        "outputId": "7da2a77e-18a4-4663-fed4-b97cd0994e28"
      },
      "execution_count": 3,
      "outputs": [
        {
          "output_type": "stream",
          "name": "stdout",
          "text": [
            "DFS starting from 'A':\n",
            "A B D E F C \n"
          ]
        }
      ]
    },
    {
      "cell_type": "markdown",
      "source": [
        "Kruskal's Algorithm"
      ],
      "metadata": {
        "id": "FhzDMPGvDbpx"
      }
    },
    {
      "cell_type": "code",
      "source": [
        "class DisjointSet:\n",
        "    def __init__(self, vertices):\n",
        "        self.parent = {v: v for v in vertices}\n",
        "        self.rank = {v: 0 for v in vertices}\n",
        "\n",
        "    def find(self, item):\n",
        "        if self.parent[item] != item:\n",
        "            self.parent[item] = self.find(self.parent[item])\n",
        "        return self.parent[item]\n",
        "\n",
        "    def union(self, set1, set2):\n",
        "        root1 = self.find(set1)\n",
        "        root2 = self.find(set2)\n",
        "        if root1 != root2:\n",
        "            if self.rank[root1] > self.rank[root2]:\n",
        "                self.parent[root2] = root1\n",
        "            elif self.rank[root1] < self.rank[root2]:\n",
        "                self.parent[root1] = root2\n",
        "            else:\n",
        "                self.parent[root2] = root1\n",
        "                self.rank[root1] += 1\n",
        "\n",
        "def kruskal(graph, vertices):\n",
        "    mst = []\n",
        "    edges = sorted((graph[u][v], u, v) for u in graph for v in graph[u])\n",
        "    disjoint_set = DisjointSet(vertices)\n",
        "\n",
        "    for weight, u, v in edges:\n",
        "        if disjoint_set.find(u) != disjoint_set.find(v):\n",
        "            disjoint_set.union(u, v)\n",
        "            mst.append((u, v, weight))\n",
        "\n",
        "    return mst\n",
        "\n",
        "# Example graph\n",
        "graph = {\n",
        "    'A': {'B': 3, 'D': 1},\n",
        "    'B': {'A': 3, 'D': 3, 'C': 1},\n",
        "    'C': {'B': 1, 'D': 1, 'E': 5},\n",
        "    'D': {'A': 1, 'B': 3, 'C': 1},\n",
        "    'E': {'C': 5}\n",
        "}\n",
        "vertices = graph.keys()\n",
        "\n",
        "print(\"Kruskal's MST:\")\n",
        "print(kruskal(graph, vertices))\n"
      ],
      "metadata": {
        "colab": {
          "base_uri": "https://localhost:8080/"
        },
        "id": "efAMxAbsDPcY",
        "outputId": "9248fbc4-4977-4cc5-edcf-50de14d566d3"
      },
      "execution_count": 4,
      "outputs": [
        {
          "output_type": "stream",
          "name": "stdout",
          "text": [
            "Kruskal's MST:\n",
            "[('A', 'D', 1), ('B', 'C', 1), ('C', 'D', 1), ('C', 'E', 5)]\n"
          ]
        }
      ]
    },
    {
      "cell_type": "code",
      "source": [],
      "metadata": {
        "id": "J66uIHruDfUi"
      },
      "execution_count": null,
      "outputs": []
    }
  ]
}