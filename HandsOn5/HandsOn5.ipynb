{
  "nbformat": 4,
  "nbformat_minor": 0,
  "metadata": {
    "colab": {
      "provenance": []
    },
    "kernelspec": {
      "name": "python3",
      "display_name": "Python 3"
    },
    "language_info": {
      "name": "python"
    }
  },
  "cells": [
    {
      "cell_type": "code",
      "execution_count": null,
      "metadata": {
        "colab": {
          "base_uri": "https://localhost:8080/"
        },
        "id": "hM5EYt4ZKDap",
        "outputId": "ddc56cbf-9b1d-478b-d0a8-c94b959b8b0e"
      },
      "outputs": [
        {
          "output_type": "stream",
          "name": "stdout",
          "text": [
            "Initial Min Heap: [1, 1, 2, 3, 5, 9, 4, 6, 5]\n",
            "After insertion of 0.5: [0.5, 1, 2, 3, 1, 9, 4, 6, 5, 5]\n",
            "Popped root node: 0.5\n",
            "Heap after popping root node: [1, 1, 2, 3, 5, 9, 4, 6, 5]\n"
          ]
        }
      ],
      "source": [
        "class MinHeap:\n",
        "    def __init__(self):\n",
        "        self.heap = []\n",
        "\n",
        "    def parent(self, index):\n",
        "        return (index - 1) >> 1\n",
        "\n",
        "    def left(self, index):\n",
        "        return (index << 1) + 1\n",
        "\n",
        "    def right(self, index):\n",
        "        return (index << 1) + 2\n",
        "\n",
        "    def heapify_up(self, index):\n",
        "        while index > 0 and self.heap[index] < self.heap[self.parent(index)]:\n",
        "            self.heap[index], self.heap[self.parent(index)] = self.heap[self.parent(index)], self.heap[index]\n",
        "            index = self.parent(index)\n",
        "\n",
        "    def heapify_down(self, index):\n",
        "        smallest = index\n",
        "        left_child = self.left(index)\n",
        "        right_child = self.right(index)\n",
        "\n",
        "        if left_child < len(self.heap) and self.heap[left_child] < self.heap[smallest]:\n",
        "            smallest = left_child\n",
        "        if right_child < len(self.heap) and self.heap[right_child] < self.heap[smallest]:\n",
        "            smallest = right_child\n",
        "\n",
        "        if smallest != index:\n",
        "            self.heap[index], self.heap[smallest] = self.heap[smallest], self.heap[index]\n",
        "            self.heapify_down(smallest)\n",
        "\n",
        "    def build_min_heap(self, arr):\n",
        "        self.heap = arr\n",
        "        for i in range(len(arr) // 2, -1, -1):\n",
        "            self.heapify_down(i)\n",
        "\n",
        "    def insert(self, value):\n",
        "        self.heap.append(value)\n",
        "        self.heapify_up(len(self.heap) - 1)\n",
        "\n",
        "    def pop_root(self):\n",
        "        if not self.heap:\n",
        "            return None\n",
        "        if len(self.heap) == 1:\n",
        "            return self.heap.pop()\n",
        "        root = self.heap[0]\n",
        "        self.heap[0] = self.heap.pop()\n",
        "        self.heapify_down(0)\n",
        "        return root\n",
        "\n",
        "\n",
        "# Example usage:\n",
        "if __name__ == \"__main__\":\n",
        "    heap = MinHeap()\n",
        "    heap.build_min_heap([3, 1, 4, 1, 5, 9, 2, 6, 5])\n",
        "\n",
        "    print(\"Initial Min Heap:\", heap.heap)\n",
        "\n",
        "    heap.insert(0.5)\n",
        "    print(\"After insertion of 0.5:\", heap.heap)\n",
        "\n",
        "    popped = heap.pop_root()\n",
        "    print(\"Popped root node:\", popped)\n",
        "    print(\"Heap after popping root node:\", heap.heap)\n"
      ]
    },
    {
      "cell_type": "code",
      "source": [],
      "metadata": {
        "id": "zuqd9l21KGxD"
      },
      "execution_count": null,
      "outputs": []
    }
  ]
}