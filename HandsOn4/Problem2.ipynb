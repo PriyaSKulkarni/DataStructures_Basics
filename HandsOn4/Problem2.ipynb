{
  "nbformat": 4,
  "nbformat_minor": 0,
  "metadata": {
    "colab": {
      "provenance": []
    },
    "kernelspec": {
      "name": "python3",
      "display_name": "Python 3"
    },
    "language_info": {
      "name": "python"
    }
  },
  "cells": [
    {
      "cell_type": "markdown",
      "source": [
        "Given a sorted array array of size N, the task is to remove the duplicate elements from the array.\n",
        "\n",
        "Examples:\n",
        "\n",
        "Input: array = [2, 2, 2, 2, 2]\n",
        "\n",
        "Output: array= [2]\n",
        "\n",
        "Explanation: All the elements are 2, So only keep one instance of 2.\n",
        "\n",
        "\n",
        "Input: array = [1, 2, 2, 3, 4, 4, 4, 5, 5]\n",
        "\n",
        "Output: array[] = {1, 2, 3, 4, 5}"
      ],
      "metadata": {
        "id": "lfauZ7UAdE55"
      }
    },
    {
      "cell_type": "code",
      "source": [
        "def remove_duplicates(array):\n",
        "    if len(array) == 0:\n",
        "        return []\n",
        "\n",
        "    result = [array[0]]\n",
        "\n",
        "    for i in range(1, len(array)):\n",
        "        if array[i] != array[i - 1]:\n",
        "            result.append(array[i])\n",
        "\n",
        "    return result\n",
        "\n",
        "# Example 1\n",
        "array1 = [2, 2, 2, 2, 2]\n",
        "result1 = remove_duplicates(array1)\n",
        "print(result1)\n",
        "\n",
        "# Example 2\n",
        "array2 = [1, 2, 2, 3, 4, 4, 4, 5, 5]\n",
        "result2 = remove_duplicates(array2)\n",
        "print(result2)\n"
      ],
      "metadata": {
        "colab": {
          "base_uri": "https://localhost:8080/"
        },
        "id": "WkYcp8_RdFdP",
        "outputId": "cdb42331-ada9-4312-cb44-9f28ca223aa0"
      },
      "execution_count": 1,
      "outputs": [
        {
          "output_type": "stream",
          "name": "stdout",
          "text": [
            "[2]\n",
            "[1, 2, 3, 4, 5]\n"
          ]
        }
      ]
    },
    {
      "cell_type": "markdown",
      "source": [
        "the steps to remove duplicate elements from a sorted array:\n",
        "\n",
        "1. Initialize an empty list called result to store the unique elements.\n",
        "\n",
        "2. If the input array is empty, return an empty list as there are no elements to process.\n",
        "\n",
        "3. Append the first element of the input array to the result list since it's the first unique element.\n",
        "\n",
        "4. Iterate through the input array starting from the second element.\n",
        "\n",
        "5. Compare each element with the previous one (i.e., the element at index i - 1).\n",
        "\n",
        "6. If the current element is different from the previous one, append it to the result list as it's a unique element.\n",
        "\n",
        "7. Continue this process until all elements in the input array are processed.\n",
        "\n",
        "8. Return the result list containing only unique elements."
      ],
      "metadata": {
        "id": "IiF9V0JndU1Y"
      }
    },
    {
      "cell_type": "markdown",
      "source": [
        "Example 1:\n",
        "\n",
        "Input: array = [2, 2, 2, 2, 2]\n",
        "\n",
        "1. Initialize an empty list result to store unique elements.\n",
        "2. Append the first element, 2, to the result list.\n",
        "3. Start iterating through the input array from the second element (2).\n",
        "4. Compare 2 with the previous element, 2. Since they are the same, skip appending 2 to the result list.\n",
        "5. Repeat this process for the remaining elements: 2, 2, 2.\n",
        "6. After processing all elements, the result list contains only the first occurrence of 2: [2].\n",
        "7. Return the result list as the output of the function.\n",
        "\n",
        "Example 2:\n",
        "\n",
        "Input: array = [1, 2, 2, 3, 4, 4, 4, 5, 5]\n",
        "\n",
        "1. Initialize an empty list result to store unique elements.\n",
        "2. Append the first element, 1, to the result list.\n",
        "3. Start iterating through the input array from the second element (2).\n",
        "4. Compare 2 with the previous element, 1. Since 2 is different from 1, append 2 to the result list.\n",
        "5. Move to the next element, 2, and compare it with the previous element, 2. Since they are the same, skip appending 2 to the result list.\n",
        "6. Repeat this process for the remaining elements: 3, 4, 4, 4, 5, 5.\n",
        "7. After processing all elements, the result list contains only unique elements: [1, 2, 3, 4, 5].\n",
        "8. Return the result list as the output of the function."
      ],
      "metadata": {
        "id": "P92mWPU4d3e2"
      }
    },
    {
      "cell_type": "code",
      "source": [],
      "metadata": {
        "id": "b8fJNQMcdMh_"
      },
      "execution_count": null,
      "outputs": []
    }
  ]
}