{
  "nbformat": 4,
  "nbformat_minor": 0,
  "metadata": {
    "colab": {
      "provenance": []
    },
    "kernelspec": {
      "name": "python3",
      "display_name": "Python 3"
    },
    "language_info": {
      "name": "python"
    }
  },
  "cells": [
    {
      "cell_type": "markdown",
      "source": [
        "Problem 1\n",
        "\n",
        "Given K sorted arrays of size N each, the task is to merge them all maintaining their sorted order.\n",
        "\n",
        "Examples:\n",
        "\n",
        "Input: K = 3, N =  4\n",
        "array1 = [1,3,5,7]\n",
        "array2 = [2,4,6,8]\n",
        "array3 = [0,9,10,11]\n",
        "Output: [0,1,2,3,4,5,6,7,8,9,10,11]\n",
        "Merged array in a sorted order where every element is greater than the previous element.\n",
        "\n",
        "Input: K = 3, N =  3\n",
        "array1 = [1,3,7]\n",
        "array2 = [2,4,8]\n",
        "array3 = [9,10,11]\n",
        "Output: [1,2,3,4,7,8,9,10,11]\n",
        "Merged array in a sorted order where every element is greater than the previous element."
      ],
      "metadata": {
        "id": "nlW76Krzblnd"
      }
    },
    {
      "cell_type": "code",
      "execution_count": 2,
      "metadata": {
        "colab": {
          "base_uri": "https://localhost:8080/"
        },
        "id": "bKTsM-Bybfi9",
        "outputId": "2843eb61-5064-4c8d-8810-97c520bf6df3"
      },
      "outputs": [
        {
          "output_type": "stream",
          "name": "stdout",
          "text": [
            "[0, 1, 2, 3, 4, 5, 6, 7, 8, 9, 10, 11]\n",
            "[1, 2, 3, 4, 7, 8, 9, 10, 11]\n"
          ]
        }
      ],
      "source": [
        "import heapq\n",
        "\n",
        "def merge_sorted_arrays(arrays):\n",
        "    result = []\n",
        "    heap = [(array[0], i, 0) for i, array in enumerate(arrays) if array]\n",
        "    heapq.heapify(heap)\n",
        "\n",
        "    while heap:\n",
        "        val, arr_idx, ele_idx = heapq.heappop(heap)\n",
        "        result.append(val)\n",
        "        if ele_idx + 1 < len(arrays[arr_idx]):\n",
        "            next_tuple = (arrays[arr_idx][ele_idx + 1], arr_idx, ele_idx + 1)\n",
        "            heapq.heappush(heap, next_tuple)\n",
        "\n",
        "    return result\n",
        "\n",
        "# Example 1\n",
        "array1 = [1, 3, 5, 7]\n",
        "array2 = [2, 4, 6, 8]\n",
        "array3 = [0, 9, 10, 11]\n",
        "merged_array = merge_sorted_arrays([array1, array2, array3])\n",
        "print(merged_array)\n",
        "\n",
        "# Example 2\n",
        "array1 = [1, 3, 7]\n",
        "array2 = [2, 4, 8]\n",
        "array3 = [9, 10, 11]\n",
        "merged_array = merge_sorted_arrays([array1, array2, array3])\n",
        "print(merged_array)\n"
      ]
    },
    {
      "cell_type": "markdown",
      "source": [
        "\n",
        "1.Create an empty list result to store the merged sorted array.\n",
        "\n",
        "2.Initialize a min heap heap.\n",
        "\n",
        "3.Iterate through each array in the input list of sorted arrays: For each array, if it's not empty, push a tuple (array[0], i, 0) onto the heap, where array[0] is the first element of the array, i is the index of the array in the input list, and 0 is the index of the first element in the array.\n",
        "\n",
        "4.Heapify the heap to maintain the min heap property.\n",
        "\n",
        "5.While the heap is not empty:\n",
        "\n",
        "  Pop the tuple (val, arr_idx, ele_idx) with the smallest value from the heap.\n",
        "\n",
        "  Append val to the result list.\n",
        "\n",
        "  If there is a next element in the array (ele_idx + 1 < len(arrays[arr_idx])), push a tuple (arrays[arr_idx][ele_idx + 1], arr_idx, ele_idx + 1) onto the heap.\n",
        "\n",
        "6.Continue popping and appending elements until all arrays are merged.\n",
        "\n",
        "7.Return the result list as the merged sorted array."
      ],
      "metadata": {
        "id": "d0aC_Mtbbq4P"
      }
    },
    {
      "cell_type": "markdown",
      "source": [
        "let's walk through the merging process for the given examples:\n",
        "\n",
        "Example 1:\n",
        "\n",
        "Input:\n",
        "\n",
        "K = 3\n",
        "\n",
        "N = 4\n",
        "\n",
        "array1 = [1, 3, 5, 7]\n",
        "\n",
        "array2 = [2, 4, 6, 8]\n",
        "\n",
        "array3 = [0, 9, 10, 11]\n",
        "\n",
        "Initialize result as an empty list and heap as an empty min heap.\n",
        "Push the first elements of each array onto the heap: (0, 2, 0), (1, 0, 0), (2, 1, 0).\n",
        "\n",
        "Heapify the heap: [(0, 2, 0), (1, 0, 0), (2, 1, 0)].\n",
        "\n",
        "Pop the smallest element (0, 2, 0) from the heap and append 0 to the result.\n",
        "\n",
        "Push the next element from array 3 onto the heap: (9, 2, 1).\n",
        "\n",
        "Pop the smallest element (1, 0, 0) from the heap and append 1 to the result.\n",
        "\n",
        "Push the next element from array 1 onto the heap: (3, 0, 1).\n",
        "\n",
        "Pop the smallest element (2, 1, 0) from the heap and append 2 to the result.\n",
        "\n",
        "Continue this process until all elements are merged.\n",
        "\n",
        "The final result is [0, 1, 2, 3, 4, 5, 6, 7, 8, 9, 10, 11]."
      ],
      "metadata": {
        "id": "B8B01MtXcaj6"
      }
    },
    {
      "cell_type": "markdown",
      "source": [
        "Example 2:\n",
        "\n",
        "Input:\n",
        "\n",
        "K = 3\n",
        "\n",
        "N = 3\n",
        "\n",
        "array1 = [1, 3, 7]\n",
        "\n",
        "array2 = [2, 4, 8]\n",
        "\n",
        "array3 = [9, 10, 11]\n",
        "\n",
        "Initialize result as an empty list and heap as an empty min heap.\n",
        "\n",
        "Push the first elements of each array onto the heap: (1, 0, 0), (2, 1, 0), (9, 2, 0).\n",
        "\n",
        "Heapify the heap: [(1, 0, 0), (2, 1, 0), (9, 2, 0)].\n",
        "\n",
        "Pop the smallest element (1, 0, 0) from the heap and append 1 to the result.\n",
        "\n",
        "Push the next element from array 1 onto the heap: (3, 0, 1).\n",
        "\n",
        "Pop the smallest element (2, 1, 0) from the heap and append 2 to the result.\n",
        "\n",
        "Push the next element from array 2 onto the heap: (4, 1, 1).\n",
        "\n",
        "Continue this process until all elements are merged.\n",
        "\n",
        "The final result is [1, 2, 3, 4, 7, 8, 9, 10, 11]."
      ],
      "metadata": {
        "id": "mftAwJLrcqAz"
      }
    },
    {
      "cell_type": "code",
      "source": [],
      "metadata": {
        "id": "TkpxLt1Rbnst"
      },
      "execution_count": null,
      "outputs": []
    }
  ]
}