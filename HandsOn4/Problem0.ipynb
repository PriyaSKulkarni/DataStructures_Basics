{
  "nbformat": 4,
  "nbformat_minor": 0,
  "metadata": {
    "colab": {
      "provenance": []
    },
    "kernelspec": {
      "name": "python3",
      "display_name": "Python 3"
    },
    "language_info": {
      "name": "python"
    }
  },
  "cells": [
    {
      "cell_type": "markdown",
      "source": [
        "1.Implement the solutions and upload it to github"
      ],
      "metadata": {
        "id": "-ku38aCoa64m"
      }
    },
    {
      "cell_type": "code",
      "execution_count": 2,
      "metadata": {
        "colab": {
          "base_uri": "https://localhost:8080/"
        },
        "id": "nRxRqbupZycR",
        "outputId": "bfc02baa-a028-4802-ee89-07bb3b8f97c7"
      },
      "outputs": [
        {
          "output_type": "stream",
          "name": "stdout",
          "text": [
            "fib(5) -> Fib call 4\n",
            "Fib call 3\n",
            "Fib call 2\n",
            "Fib call 1\n",
            "Fib call 0\n",
            "Fib call 1\n",
            "Fib call 2\n",
            "Fib call 1\n",
            "Fib call 0\n",
            "Fib call 3\n",
            "Fib call 2\n",
            "Fib call 1\n",
            "Fib call 0\n",
            "Fib call 1\n",
            "5\n"
          ]
        },
        {
          "output_type": "execute_result",
          "data": {
            "text/plain": [
              "5"
            ]
          },
          "metadata": {},
          "execution_count": 2
        }
      ],
      "source": [
        "def fib(n):\n",
        "    print(f\"Fib call {n}\")\n",
        "    if n == 0:\n",
        "        return 0\n",
        "    if n == 1:\n",
        "        return 1\n",
        "    return fib(n-1) + fib(n-2)\n",
        "\n",
        "def debug_fib(n):\n",
        "    print(f\"fib({n})\", end=\" -> \")\n",
        "    if n == 0:\n",
        "        print(\"0\")\n",
        "        return 0\n",
        "    if n == 1:\n",
        "        print(\"1\")\n",
        "        return 1\n",
        "    result = fib(n-1) + fib(n-2)\n",
        "    print(result)\n",
        "    return result\n",
        "\n",
        "# Debugging the fib(5) function call\n",
        "debug_fib(5)\n"
      ]
    },
    {
      "cell_type": "markdown",
      "source": [
        "Now, let's analyze the function call stack for fib(5):\n",
        "\n",
        "fib(5) calls fib(4) and fib(3)\n",
        "\n",
        "fib(4) calls fib(3) and fib(2)\n",
        "\n",
        "fib(3) calls fib(2) and fib(1)\n",
        "\n",
        "fib(3) calls fib(2) and fib(1)\n",
        "\n",
        "fib(2) calls fib(1) and fib(0)\n",
        "\n",
        "fib(2) calls fib(1) and fib(0)\n",
        "\n",
        "fib(1) returns 1\n",
        "\n",
        "fib(0) returns 0\n",
        "\n",
        "fib(1) returns 1\n",
        "\n",
        "fib(2) returns 1 + 0 = 1\n",
        "\n",
        "fib(2) returns 1 + 0 = 1\n",
        "\n",
        "fib(3) returns 1 + 1 = 2\n",
        "\n",
        "fib(3) returns 1 + 1 = 2\n",
        "\n",
        "fib(4) returns 2 + 1 = 3\n",
        "\n",
        "fib(5) returns 3 + 2 = 5\n",
        "\n",
        "The function call stack illustrates the recursive calls made by the fib() function until the base cases are reached and the recursion unwinds. Each call involves calculating the Fibonacci number for smaller values until the final result for fib(5) is obtained."
      ],
      "metadata": {
        "id": "DhIeeIlBaMiD"
      }
    },
    {
      "cell_type": "markdown",
      "source": [
        "2.Prove the time complexity of the algorithms\n",
        "\n",
        "For proving the time complexity of this algorithm, we can use mathematical induction or recurrence relations. The time complexity of the Fibonacci sequence using this recursive approach is exponential, specifically O(2^n), due to the repeated computation of overlapping subproblems."
      ],
      "metadata": {
        "id": "E00ATyg4aqJr"
      }
    },
    {
      "cell_type": "markdown",
      "source": [
        "3.Comment on way's you could improve your implementation (you don't need to do it just discuss it)\n",
        "\n",
        "To improve the implementation, we could consider using memoization to store previously computed Fibonacci numbers and avoid redundant calculations. Additionally, we could explore iterative solutions or other algorithms such as matrix exponentiation to achieve better time complexity."
      ],
      "metadata": {
        "id": "ODImUQcFavh6"
      }
    },
    {
      "cell_type": "code",
      "source": [],
      "metadata": {
        "id": "zD2qAmM9Z3ka"
      },
      "execution_count": null,
      "outputs": []
    }
  ]
}