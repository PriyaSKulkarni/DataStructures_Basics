{
  "nbformat": 4,
  "nbformat_minor": 0,
  "metadata": {
    "colab": {
      "provenance": []
    },
    "kernelspec": {
      "name": "python3",
      "display_name": "Python 3"
    },
    "language_info": {
      "name": "python"
    }
  },
  "cells": [
    {
      "cell_type": "code",
      "execution_count": 1,
      "metadata": {
        "colab": {
          "base_uri": "https://localhost:8080/"
        },
        "id": "APvzlOJ8jxvc",
        "outputId": "e2706c53-5faa-496b-f939-cfcd48d885c6"
      },
      "outputs": [
        {
          "output_type": "stream",
          "name": "stdout",
          "text": [
            "The 4th order statistic is: 5\n"
          ]
        }
      ],
      "source": [
        "def partition(arr, low, high):\n",
        "    pivot = arr[high]\n",
        "    i = low - 1\n",
        "    for j in range(low, high):\n",
        "        if arr[j] <= pivot:\n",
        "            i += 1\n",
        "            arr[i], arr[j] = arr[j], arr[i]\n",
        "    arr[i + 1], arr[high] = arr[high], arr[i + 1]\n",
        "    return i + 1\n",
        "\n",
        "def quickselect(arr, low, high, i):\n",
        "    if low <= high:\n",
        "        pivot_index = partition(arr, low, high)\n",
        "        if pivot_index == i:\n",
        "            return arr[pivot_index]\n",
        "        elif pivot_index < i:\n",
        "            return quickselect(arr, pivot_index + 1, high, i)\n",
        "        else:\n",
        "            return quickselect(arr, low, pivot_index - 1, i)\n",
        "\n",
        "def ith_order_statistic(arr, i):\n",
        "    return quickselect(arr, 0, len(arr) - 1, i)\n",
        "\n",
        "# Example usage:\n",
        "arr = [3, 1, 4, 7, 2, 5, 9, 6, 8]\n",
        "i = 4\n",
        "print(f\"The {i}th order statistic is: {ith_order_statistic(arr, i)}\")\n"
      ]
    },
    {
      "cell_type": "markdown",
      "source": [
        "Queue:"
      ],
      "metadata": {
        "id": "0RjVFf6cfk8M"
      }
    },
    {
      "cell_type": "code",
      "source": [
        "class Queue:\n",
        "    def __init__(self):\n",
        "        self.items = []\n",
        "\n",
        "    def enqueue(self, item):\n",
        "        self.items.append(item)\n",
        "\n",
        "    def dequeue(self):\n",
        "        if not self.is_empty():\n",
        "            return self.items.pop(0)\n",
        "        else:\n",
        "            raise IndexError(\"Queue is empty\")\n",
        "\n",
        "    def is_empty(self):\n",
        "        return len(self.items) == 0\n",
        "\n",
        "    def size(self):\n",
        "        return len(self.items)\n"
      ],
      "metadata": {
        "id": "s0jYDivpj5fk"
      },
      "execution_count": 2,
      "outputs": []
    },
    {
      "cell_type": "code",
      "source": [
        "# Create a new queue\n",
        "queue = Queue()\n",
        "\n",
        "# Enqueue some elements\n",
        "queue.enqueue(10)\n",
        "queue.enqueue(20)\n",
        "queue.enqueue(30)\n",
        "\n",
        "# Dequeue an element\n",
        "print(\"Dequeued item:\", queue.dequeue())\n",
        "\n",
        "# Check if the queue is empty\n",
        "print(\"Is the queue empty?\", queue.is_empty())\n",
        "\n",
        "# Get the size of the queue\n",
        "print(\"Size of the queue:\", queue.size())\n"
      ],
      "metadata": {
        "colab": {
          "base_uri": "https://localhost:8080/"
        },
        "id": "HY180Aoaf0j3",
        "outputId": "2e396a8f-13c3-4986-9e4f-bf780cfb7463"
      },
      "execution_count": 3,
      "outputs": [
        {
          "output_type": "stream",
          "name": "stdout",
          "text": [
            "Dequeued item: 10\n",
            "Is the queue empty? False\n",
            "Size of the queue: 2\n"
          ]
        }
      ]
    },
    {
      "cell_type": "markdown",
      "source": [
        "Stack:"
      ],
      "metadata": {
        "id": "ua-JdeURfsWh"
      }
    },
    {
      "cell_type": "code",
      "source": [
        "class Stack:\n",
        "    def __init__(self):\n",
        "        self.items = []\n",
        "\n",
        "    def push(self, item):\n",
        "        self.items.append(item)\n",
        "\n",
        "    def pop(self):\n",
        "        if not self.is_empty():\n",
        "            return self.items.pop()\n",
        "        else:\n",
        "            raise IndexError(\"Stack is empty\")\n",
        "\n",
        "    def is_empty(self):\n",
        "        return len(self.items) == 0\n",
        "\n",
        "    def size(self):\n",
        "        return len(self.items)\n"
      ],
      "metadata": {
        "id": "u12JqUDhfs_L"
      },
      "execution_count": 4,
      "outputs": []
    },
    {
      "cell_type": "code",
      "source": [
        "# Create a new stack\n",
        "stack = Stack()\n",
        "\n",
        "# Push some elements\n",
        "stack.push(10)\n",
        "stack.push(20)\n",
        "stack.push(30)\n",
        "\n",
        "# Pop an element\n",
        "print(\"Popped item:\", stack.pop())\n",
        "\n",
        "# Check if the stack is empty\n",
        "print(\"Is the stack empty?\", stack.is_empty())\n",
        "\n",
        "# Get the size of the stack\n",
        "print(\"Size of the stack:\", stack.size())\n"
      ],
      "metadata": {
        "colab": {
          "base_uri": "https://localhost:8080/"
        },
        "id": "-9ovz8pOf3oq",
        "outputId": "4beb3725-7afe-4174-f5b9-a400908948cc"
      },
      "execution_count": 5,
      "outputs": [
        {
          "output_type": "stream",
          "name": "stdout",
          "text": [
            "Popped item: 30\n",
            "Is the stack empty? False\n",
            "Size of the stack: 2\n"
          ]
        }
      ]
    },
    {
      "cell_type": "markdown",
      "source": [
        "LinkedList:\n"
      ],
      "metadata": {
        "id": "cygGhVabfvG-"
      }
    },
    {
      "cell_type": "code",
      "source": [
        "class Node:\n",
        "    def __init__(self, data):\n",
        "        self.data = data\n",
        "        self.next = None\n",
        "\n",
        "class LinkedList:\n",
        "    def __init__(self):\n",
        "        self.head = None\n",
        "\n",
        "    def append(self, data):\n",
        "        new_node = Node(data)\n",
        "        if self.head is None:\n",
        "            self.head = new_node\n",
        "            return\n",
        "        last_node = self.head\n",
        "        while last_node.next:\n",
        "            last_node = last_node.next\n",
        "        last_node.next = new_node\n",
        "\n",
        "    def prepend(self, data):\n",
        "        new_node = Node(data)\n",
        "        new_node.next = self.head\n",
        "        self.head = new_node\n",
        "\n",
        "    def delete(self, data):\n",
        "        current_node = self.head\n",
        "        if current_node and current_node.data == data:\n",
        "            self.head = current_node.next\n",
        "            return\n",
        "        prev_node = None\n",
        "        while current_node and current_node.data != data:\n",
        "            prev_node = current_node\n",
        "            current_node = current_node.next\n",
        "        if current_node is None:\n",
        "            return\n",
        "        prev_node.next = current_node.next\n",
        "\n",
        "    def display(self):\n",
        "        current_node = self.head\n",
        "        while current_node:\n",
        "            print(current_node.data, end=\" -> \")\n",
        "            current_node = current_node.next\n",
        "        print(\"None\")\n"
      ],
      "metadata": {
        "id": "VBzbbQF2fwjf"
      },
      "execution_count": 6,
      "outputs": []
    },
    {
      "cell_type": "code",
      "source": [
        "# Create a new linked list\n",
        "linked_list = LinkedList()\n",
        "\n",
        "# Append some elements\n",
        "linked_list.append(10)\n",
        "linked_list.append(20)\n",
        "linked_list.append(30)\n",
        "\n",
        "# Display the linked list\n",
        "print(\"Linked list:\")\n",
        "linked_list.display()\n",
        "\n",
        "# Delete an element\n",
        "linked_list.delete(20)\n",
        "\n",
        "# Display the linked list after deletion\n",
        "print(\"Linked list after deletion:\")\n",
        "linked_list.display()\n"
      ],
      "metadata": {
        "colab": {
          "base_uri": "https://localhost:8080/"
        },
        "id": "O_2IXyEZf45E",
        "outputId": "8ad77d48-bc71-4cbb-a652-cea9eb38bb3d"
      },
      "execution_count": 7,
      "outputs": [
        {
          "output_type": "stream",
          "name": "stdout",
          "text": [
            "Linked list:\n",
            "10 -> 20 -> 30 -> None\n",
            "Linked list after deletion:\n",
            "10 -> 30 -> None\n"
          ]
        }
      ]
    },
    {
      "cell_type": "code",
      "source": [],
      "metadata": {
        "id": "HdawL4fEf6i9"
      },
      "execution_count": null,
      "outputs": []
    }
  ]
}