{
  "nbformat": 4,
  "nbformat_minor": 0,
  "metadata": {
    "colab": {
      "provenance": []
    },
    "kernelspec": {
      "name": "python3",
      "display_name": "Python 3"
    },
    "language_info": {
      "name": "python"
    }
  },
  "cells": [
    {
      "cell_type": "markdown",
      "source": [
        "HandsOn 15\n",
        "\n",
        "1. Dijkstra's Algorithm\n",
        "Dijkstra's algorithm is used to find the shortest path from a single source node to all other nodes in a graph with non-negative edge weights.\n",
        "\n",
        "2. Bellman-Ford Algorithm\n",
        "The Bellman-Ford algorithm is used to find the shortest path from a single source node to all other nodes in a graph and can handle negative weights.\n",
        "\n",
        "3. Floyd-Warshall Algorithm\n",
        "Floyd-Warshall algorithm is used to find shortest paths between all pairs of nodes in a graph, which may include negative weights but no negative cycles."
      ],
      "metadata": {
        "id": "0NRc83VMAmG8"
      }
    },
    {
      "cell_type": "code",
      "execution_count": 1,
      "metadata": {
        "colab": {
          "base_uri": "https://localhost:8080/"
        },
        "id": "6nBAh5ZgAMtz",
        "outputId": "79a086ae-2e68-45b5-8f5c-bd59813b8b96"
      },
      "outputs": [
        {
          "output_type": "stream",
          "name": "stdout",
          "text": [
            "Dijkstra's algorithm:\n",
            "{'A': 0, 'B': 1, 'C': 3, 'D': 4}\n",
            "\n",
            "Bellman-Ford algorithm:\n",
            "{'A': 0, 'B': 1, 'C': 3, 'D': 4}\n",
            "\n",
            "Floyd-Warshall algorithm:\n",
            "A: {'A': 0, 'B': 1, 'C': 3, 'D': 4}\n",
            "B: {'A': 1, 'B': 0, 'C': 2, 'D': 3}\n",
            "C: {'A': 3, 'B': 2, 'C': 0, 'D': 1}\n",
            "D: {'A': 4, 'B': 3, 'C': 1, 'D': 0}\n"
          ]
        }
      ],
      "source": [
        "import heapq\n",
        "\n",
        "def dijkstra(graph, start):\n",
        "    distances = {vertex: float('infinity') for vertex in graph}\n",
        "    distances[start] = 0\n",
        "    priority_queue = [(0, start)]\n",
        "\n",
        "    while priority_queue:\n",
        "        current_distance, current_vertex = heapq.heappop(priority_queue)\n",
        "\n",
        "        if current_distance > distances[current_vertex]:\n",
        "            continue\n",
        "\n",
        "        for neighbor, weight in graph[current_vertex].items():\n",
        "            distance = current_distance + weight\n",
        "\n",
        "            if distance < distances[neighbor]:\n",
        "                distances[neighbor] = distance\n",
        "                heapq.heappush(priority_queue, (distance, neighbor))\n",
        "\n",
        "    return distances\n",
        "\n",
        "def bellman_ford(graph, source):\n",
        "    distance = {vertex: float('infinity') for vertex in graph}\n",
        "    distance[source] = 0\n",
        "\n",
        "    for _ in range(len(graph) - 1):\n",
        "        for u in graph:\n",
        "            for v in graph[u]:\n",
        "                if distance[u] + graph[u][v] < distance[v]:\n",
        "                    distance[v] = distance[u] + graph[u][v]\n",
        "\n",
        "    for u in graph:\n",
        "        for v in graph[u]:\n",
        "            if distance[u] + graph[u][v] < distance[v]:\n",
        "                print(\"Graph contains a negative weight cycle\")\n",
        "                return None\n",
        "\n",
        "    return distance\n",
        "\n",
        "def floyd_warshall(graph):\n",
        "    vertices = list(graph.keys())\n",
        "    n = len(vertices)\n",
        "    distance = {v: {u: float('infinity') for u in vertices} for v in vertices}\n",
        "    for v in vertices:\n",
        "        distance[v][v] = 0\n",
        "\n",
        "    for v in graph:\n",
        "        for u in graph[v]:\n",
        "            distance[v][u] = graph[v][u]\n",
        "\n",
        "    for k in vertices:\n",
        "        for i in vertices:\n",
        "            for j in vertices:\n",
        "                if distance[i][j] > distance[i][k] + distance[k][j]:\n",
        "                    distance[i][j] = distance[i][k] + distance[k][j]\n",
        "\n",
        "    return distance\n",
        "\n",
        "# Example graph\n",
        "graph = {\n",
        "    'A': {'B': 1, 'C': 4},\n",
        "    'B': {'A': 1, 'C': 2, 'D': 5},\n",
        "    'C': {'A': 4, 'B': 2, 'D': 1},\n",
        "    'D': {'B': 5, 'C': 1}\n",
        "}\n",
        "\n",
        "# Testing Dijkstra's algorithm\n",
        "print(\"Dijkstra's algorithm:\")\n",
        "print(dijkstra(graph, 'A'))\n",
        "\n",
        "# Testing Bellman-Ford algorithm\n",
        "print(\"\\nBellman-Ford algorithm:\")\n",
        "print(bellman_ford(graph, 'A'))\n",
        "\n",
        "# Testing Floyd-Warshall algorithm\n",
        "print(\"\\nFloyd-Warshall algorithm:\")\n",
        "result = floyd_warshall(graph)\n",
        "for row in result:\n",
        "    print(f\"{row}: {result[row]}\")\n"
      ]
    },
    {
      "cell_type": "code",
      "source": [],
      "metadata": {
        "id": "gdrqE7jMAhKL"
      },
      "execution_count": null,
      "outputs": []
    }
  ]
}